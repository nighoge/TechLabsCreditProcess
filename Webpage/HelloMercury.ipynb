{
 "cells": [
  {
   "cell_type": "code",
   "execution_count": 1,
   "metadata": {},
   "outputs": [],
   "source": [
    "import mercury as mr # for widgets\n",
    "import random # for random data generation\n",
    "from matplotlib import pyplot as plt # for chart"
   ]
  },
  {
   "cell_type": "code",
   "execution_count": 2,
   "metadata": {},
   "outputs": [
    {
     "data": {
      "application/mercury+json": {
       "allow_download": true,
       "code_uid": "App.0.40.25.1-rand36e08115",
       "continuous_update": true,
       "description": "Samples app in Mercury",
       "full_screen": true,
       "model_id": "mercury-app",
       "notify": "{}",
       "output": "app",
       "schedule": "",
       "show_code": false,
       "show_prompt": false,
       "show_sidebar": true,
       "static_notebook": false,
       "stop_on_error": false,
       "title": "Hello in Mercury!",
       "widget": "App"
      },
      "text/html": [
       "<h3>Mercury Application</h3><small>This output won't appear in the web app.</small>"
      ],
      "text/plain": [
       "mercury.App"
      ]
     },
     "metadata": {},
     "output_type": "display_data"
    }
   ],
   "source": [
    "app = mr.App(title=\"Hello in Mercury!\", description=\"Samples app in Mercury\")"
   ]
  },
  {
   "cell_type": "code",
   "execution_count": 3,
   "metadata": {},
   "outputs": [
    {
     "data": {
      "application/mercury+json": {
       "code_uid": "Text.0.40.15.1-randb667a5ce",
       "disabled": false,
       "hidden": false,
       "label": "What is your name?",
       "model_id": "570b65888aee4104a8be558d2a91afcf",
       "rows": 1,
       "url_key": "",
       "value": "Till",
       "widget": "Text"
      },
      "application/vnd.jupyter.widget-view+json": {
       "model_id": "570b65888aee4104a8be558d2a91afcf",
       "version_major": 2,
       "version_minor": 0
      },
      "text/plain": [
       "mercury.Text"
      ]
     },
     "metadata": {},
     "output_type": "display_data"
    },
    {
     "data": {
      "application/mercury+json": {
       "code_uid": "Slider.0.40.36.2-rand467c4545",
       "disabled": false,
       "hidden": false,
       "label": "Number of points",
       "max": 100,
       "min": 50,
       "model_id": "1738c321745244cca88bf64cbfc17486",
       "step": 1,
       "url_key": "",
       "value": 75,
       "widget": "Slider"
      },
      "application/vnd.jupyter.widget-view+json": {
       "model_id": "1738c321745244cca88bf64cbfc17486",
       "version_major": 2,
       "version_minor": 0
      },
      "text/plain": [
       "mercury.Slider"
      ]
     },
     "metadata": {},
     "output_type": "display_data"
    },
    {
     "data": {
      "application/mercury+json": {
       "choices": [
        "red",
        "green",
        "blue"
       ],
       "code_uid": "Select.0.40.16.3-randbeff8f3a",
       "disabled": false,
       "hidden": false,
       "label": "Select color",
       "model_id": "45347de388fa4536b5f2058b18f0b01c",
       "url_key": "",
       "value": "blue",
       "widget": "Select"
      },
      "application/vnd.jupyter.widget-view+json": {
       "model_id": "45347de388fa4536b5f2058b18f0b01c",
       "version_major": 2,
       "version_minor": 0
      },
      "text/plain": [
       "mercury.Select"
      ]
     },
     "metadata": {},
     "output_type": "display_data"
    }
   ],
   "source": [
    "name = mr.Text(label=\"What is your name?\", value=\"Till\")\n",
    "points = mr.Slider(label=\"Number of points\", value=75, min=50, max=100)\n",
    "color = mr.Select(label=\"Select color\", value=\"blue\", choices=[\"red\", \"green\", \"blue\"])"
   ]
  },
  {
   "cell_type": "code",
   "execution_count": 4,
   "metadata": {},
   "outputs": [
    {
     "data": {
      "text/markdown": [
       "## How are you Till?\n",
       "You can mix Python code and Markdown."
      ],
      "text/plain": [
       "<IPython.core.display.Markdown object>"
      ]
     },
     "metadata": {},
     "output_type": "display_data"
    }
   ],
   "source": [
    "mr.Md(f\"\"\"## How are you {name.value}?\n",
    "You can mix Python code and Markdown.\"\"\")"
   ]
  },
  {
   "cell_type": "code",
   "execution_count": 5,
   "metadata": {},
   "outputs": [
    {
     "data": {
      "image/png": "[encoded data removed]",
      "text/plain": [
       "<Figure size 640x480 with 1 Axes>"
      ]
     },
     "metadata": {},
     "output_type": "display_data"
    }
   ],
   "source": [
    "x = [random.gauss(0,1) for _ in range(points.value)]\n",
    "y = [random.gauss(0,1) for _ in range(points.value)]\n",
    "_ = plt.plot(x,y, '*', markersize=14, color=color.value)\n",
    "_ = plt.title(f\"Plot for {name.value}\")"
   ]
  }
 ],
 "metadata": {
  "kernelspec": {
   "display_name": "Python 3",
   "language": "python",
   "name": "python3"
  },
  "language_info": {
   "codemirror_mode": {
    "name": "ipython",
    "version": 3
   },
   "file_extension": ".py",
   "mimetype": "text/x-python",
   "name": "python",
   "nbconvert_exporter": "python",
   "pygments_lexer": "ipython3",
   "version": "3.10.0"
  }
 },
 "nbformat": 4,
 "nbformat_minor": 2
}
