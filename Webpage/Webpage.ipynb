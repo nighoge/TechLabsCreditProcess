{
 "cells": [
  {
   "cell_type": "code",
   "execution_count": 25,
   "metadata": {},
   "outputs": [],
   "source": [
    "import pandas as pd\n",
    "import ipywidgets as widgets\n",
    "from IPython.display import display\n",
    "import joblib"
   ]
  },
  {
   "cell_type": "code",
   "execution_count": 26,
   "metadata": {},
   "outputs": [],
   "source": [
    "def one_hot_encode_variables(df, categories_dict):\n",
    "    for column, categories in categories_dict.items():\n",
    "        if column in df.columns:\n",
    "            for category in categories:\n",
    "                dummy_column = f\"{column}_{category}\"\n",
    "                df[dummy_column] = (df[column] == category).astype(int)\n",
    "            df.drop(column, axis=1, inplace=True)\n",
    "    return df\n",
    "\n",
    "def binary_encode(df, columns_to_encode):\n",
    "    mapping = {'Y': 1, 'N': 0}\n",
    "    df[columns_to_encode] = df[columns_to_encode].map(mapping)\n",
    "    return df\n",
    "\n",
    "def ordinal_encode(df, columns_to_encode, custom_order):\n",
    "    mapping = {val: idx for idx, val in enumerate(custom_order)}\n",
    "    df[columns_to_encode] = df[columns_to_encode].map(mapping)\n",
    "    return df\n",
    "\n",
    "def preprocess_data_single_entry(data_entry, categorical_dict, binary_col, ordinal_col, custom_order):\n",
    "    df = pd.DataFrame(data_entry)\n",
    "    df = one_hot_encode_variables(df, categorical_dict)\n",
    "    df = binary_encode(df, binary_col)\n",
    "    df = ordinal_encode(df, ordinal_col, custom_order)\n",
    "    df.fillna(df.median(), inplace=True)\n",
    "    return df\n"
   ]
  },
  {
   "cell_type": "code",
   "execution_count": 27,
   "metadata": {},
   "outputs": [
    {
     "data": {
      "application/vnd.jupyter.widget-view+json": {
       "model_id": "f053a87adc764768b506646e4116f050",
       "version_major": 2,
       "version_minor": 0
      },
      "text/plain": [
       "HTML(value=\"<h1 class=''>Credit Helper</h1>\")"
      ]
     },
     "metadata": {},
     "output_type": "display_data"
    },
    {
     "data": {
      "application/vnd.jupyter.widget-view+json": {
       "model_id": "f8ea24274cbf4ffb96a0b65847b0e438",
       "version_major": 2,
       "version_minor": 0
      },
      "text/plain": [
       "Label(value='Age')"
      ]
     },
     "metadata": {},
     "output_type": "display_data"
    },
    {
     "data": {
      "application/vnd.jupyter.widget-view+json": {
       "model_id": "546d7e6028454ba8a2ca86be1828a14a",
       "version_major": 2,
       "version_minor": 0
      },
      "text/plain": [
       "IntSlider(value=0, description='Person Age')"
      ]
     },
     "metadata": {},
     "output_type": "display_data"
    },
    {
     "data": {
      "application/vnd.jupyter.widget-view+json": {
       "model_id": "4801a5ec25eb483ab74af5f3e4e6420c",
       "version_major": 2,
       "version_minor": 0
      },
      "text/plain": [
       "Label(value='Annual Income')"
      ]
     },
     "metadata": {},
     "output_type": "display_data"
    },
    {
     "data": {
      "application/vnd.jupyter.widget-view+json": {
       "model_id": "fb41d451be954a109a24e616247f61b4",
       "version_major": 2,
       "version_minor": 0
      },
      "text/plain": [
       "FloatText(value=0.0, description='Person Income')"
      ]
     },
     "metadata": {},
     "output_type": "display_data"
    },
    {
     "data": {
      "application/vnd.jupyter.widget-view+json": {
       "model_id": "d91903d2f7fd48208f6f5141ca17d0cf",
       "version_major": 2,
       "version_minor": 0
      },
      "text/plain": [
       "Label(value='Home Ownership')"
      ]
     },
     "metadata": {},
     "output_type": "display_data"
    },
    {
     "data": {
      "application/vnd.jupyter.widget-view+json": {
       "model_id": "51263b5fac624e16b504d4d57feb9382",
       "version_major": 2,
       "version_minor": 0
      },
      "text/plain": [
       "Dropdown(description='Home Ownership', options=('RENT', 'OWN', 'MORTGAGE', 'OTHER'), value='RENT')"
      ]
     },
     "metadata": {},
     "output_type": "display_data"
    },
    {
     "data": {
      "application/vnd.jupyter.widget-view+json": {
       "model_id": "4c43230557af4a589ba46b0ea74160c9",
       "version_major": 2,
       "version_minor": 0
      },
      "text/plain": [
       "Label(value='Employment Length (in years)')"
      ]
     },
     "metadata": {},
     "output_type": "display_data"
    },
    {
     "data": {
      "application/vnd.jupyter.widget-view+json": {
       "model_id": "d4bf95e160414c3e8cb8209c31cce438",
       "version_major": 2,
       "version_minor": 0
      },
      "text/plain": [
       "IntSlider(value=0, description='Employment Length (in years)')"
      ]
     },
     "metadata": {},
     "output_type": "display_data"
    },
    {
     "data": {
      "application/vnd.jupyter.widget-view+json": {
       "model_id": "7ce3097905064298a0639762876fa31d",
       "version_major": 2,
       "version_minor": 0
      },
      "text/plain": [
       "Label(value='Loan Intent')"
      ]
     },
     "metadata": {},
     "output_type": "display_data"
    },
    {
     "data": {
      "application/vnd.jupyter.widget-view+json": {
       "model_id": "0c4201e9c06b41509f51f833b388a596",
       "version_major": 2,
       "version_minor": 0
      },
      "text/plain": [
       "Dropdown(description='Loan Intent', options=('EDUCATION', 'DEBTCONSOLIDATION', 'HOMEIMPROVEMENT', 'MEDICAL', '…"
      ]
     },
     "metadata": {},
     "output_type": "display_data"
    },
    {
     "data": {
      "application/vnd.jupyter.widget-view+json": {
       "model_id": "9b803545a8ab41598585422b1a870170",
       "version_major": 2,
       "version_minor": 0
      },
      "text/plain": [
       "Label(value='Loan Grade')"
      ]
     },
     "metadata": {},
     "output_type": "display_data"
    },
    {
     "data": {
      "application/vnd.jupyter.widget-view+json": {
       "model_id": "253b467eb17b4c2daa719473d2ddf22e",
       "version_major": 2,
       "version_minor": 0
      },
      "text/plain": [
       "Dropdown(description='Loan Grade', options=('A', 'B', 'C', 'D', 'E'), value='A')"
      ]
     },
     "metadata": {},
     "output_type": "display_data"
    },
    {
     "data": {
      "application/vnd.jupyter.widget-view+json": {
       "model_id": "b73f77006160432c9a1b1c62fffc5307",
       "version_major": 2,
       "version_minor": 0
      },
      "text/plain": [
       "Label(value='Loan Amount')"
      ]
     },
     "metadata": {},
     "output_type": "display_data"
    },
    {
     "data": {
      "application/vnd.jupyter.widget-view+json": {
       "model_id": "c3e3f2c2f4c74782b7f97f3abd948ca7",
       "version_major": 2,
       "version_minor": 0
      },
      "text/plain": [
       "FloatText(value=0.0, description='Loan Amount')"
      ]
     },
     "metadata": {},
     "output_type": "display_data"
    },
    {
     "data": {
      "application/vnd.jupyter.widget-view+json": {
       "model_id": "37968a09722f4c3e810827b773101229",
       "version_major": 2,
       "version_minor": 0
      },
      "text/plain": [
       "Label(value='Interest Rate')"
      ]
     },
     "metadata": {},
     "output_type": "display_data"
    },
    {
     "data": {
      "application/vnd.jupyter.widget-view+json": {
       "model_id": "fdac5ac5058847b9993827a5bbf0ec50",
       "version_major": 2,
       "version_minor": 0
      },
      "text/plain": [
       "FloatText(value=0.0, description='Interest Rate')"
      ]
     },
     "metadata": {},
     "output_type": "display_data"
    },
    {
     "data": {
      "application/vnd.jupyter.widget-view+json": {
       "model_id": "bae4e5b513e44125ba23be753fb764c3",
       "version_major": 2,
       "version_minor": 0
      },
      "text/plain": [
       "Label(value='Percent Income')"
      ]
     },
     "metadata": {},
     "output_type": "display_data"
    },
    {
     "data": {
      "application/vnd.jupyter.widget-view+json": {
       "model_id": "0347fb27c8f5423e941e838c111a82de",
       "version_major": 2,
       "version_minor": 0
      },
      "text/plain": [
       "FloatText(value=0.0, description='Percent Income')"
      ]
     },
     "metadata": {},
     "output_type": "display_data"
    },
    {
     "data": {
      "application/vnd.jupyter.widget-view+json": {
       "model_id": "3fcae95f195840ca9eb44b85b9e7f051",
       "version_major": 2,
       "version_minor": 0
      },
      "text/plain": [
       "Label(value='Historical Default')"
      ]
     },
     "metadata": {},
     "output_type": "display_data"
    },
    {
     "data": {
      "application/vnd.jupyter.widget-view+json": {
       "model_id": "105d4665489f4571af20aa5581543e34",
       "version_major": 2,
       "version_minor": 0
      },
      "text/plain": [
       "Dropdown(description='Historical Default', options={'Yes': 'Y', 'No': 'N'}, value='Y')"
      ]
     },
     "metadata": {},
     "output_type": "display_data"
    },
    {
     "data": {
      "application/vnd.jupyter.widget-view+json": {
       "model_id": "32f76b9726cb43549189365dad95eb53",
       "version_major": 2,
       "version_minor": 0
      },
      "text/plain": [
       "Label(value='Credit History Length')"
      ]
     },
     "metadata": {},
     "output_type": "display_data"
    },
    {
     "data": {
      "application/vnd.jupyter.widget-view+json": {
       "model_id": "ce7fafad67d84c59b17bfb2d505b2035",
       "version_major": 2,
       "version_minor": 0
      },
      "text/plain": [
       "IntSlider(value=0, description='Credit History Length')"
      ]
     },
     "metadata": {},
     "output_type": "display_data"
    },
    {
     "data": {
      "application/vnd.jupyter.widget-view+json": {
       "model_id": "68b5dadf974a421994d4003770eb2052",
       "version_major": 2,
       "version_minor": 0
      },
      "text/plain": [
       "Button(description='Calculate', style=ButtonStyle())"
      ]
     },
     "metadata": {},
     "output_type": "display_data"
    },
    {
     "data": {
      "application/vnd.jupyter.widget-view+json": {
       "model_id": "0dc71656c8724d629563595526af3161",
       "version_major": 2,
       "version_minor": 0
      },
      "text/plain": [
       "Output()"
      ]
     },
     "metadata": {},
     "output_type": "display_data"
    }
   ],
   "source": [
    "def f(person_age, person_income, person_home_ownership, person_emp_length, loan_intent, loan_grade,\n",
    "      loan_amnt, loan_int_rate, loan_percent_income, cb_person_default_on_file, cb_person_cred_hist_length):\n",
    "   \n",
    "   model = joblib.load('..\\my_random_forest.joblib')\n",
    "   data_entry = {\n",
    "        'person_age': [person_age],\n",
    "        'person_income': [person_income],\n",
    "        'person_home_ownership': [person_home_ownership],\n",
    "        'person_emp_length': [person_emp_length],\n",
    "        'loan_intent': [loan_intent],\n",
    "        'loan_grade': [loan_grade],\n",
    "        'loan_amnt': [loan_amnt],\n",
    "        'loan_int_rate': [loan_int_rate],\n",
    "        'loan_percent_income': [loan_percent_income],\n",
    "        'cb_person_default_on_file': [cb_person_default_on_file],\n",
    "        'cb_person_cred_hist_length': [cb_person_cred_hist_length]\n",
    "    }\n",
    "   \n",
    "   categorical_dict = {\n",
    "    'person_home_ownership': ['MORTGAGE',  'OTHER', 'OWN',  'RENT'],\n",
    "    'loan_intent': ['DEBTCONSOLIDATION', 'EDUCATION', 'HOMEIMPROVEMENT', 'MEDICAL', 'PERSONAL', 'VENTURE']\n",
    "   }\n",
    "\n",
    "   binary_col = 'cb_person_default_on_file'\n",
    "   ordinal_col = 'loan_grade'\n",
    "   custom_order = ['A', 'B', 'C', 'D', 'E']\n",
    "   customer_data_transformed = preprocess_data_single_entry(data_entry, categorical_dict, binary_col, ordinal_col, custom_order)\n",
    "   \n",
    "   prediction = model.predict(customer_data_transformed)\n",
    "   predicted_probability = model.predict_proba(customer_data_transformed)[:,1]\n",
    "\n",
    "   status = \"granted\" if prediction[0] == 0 else \"denied\"\n",
    "   return f\"The credit has been {status} with probability {predicted_probability[0]}\"\n",
    "\n",
    "\n",
    "\n",
    "# Create a function to generate HTML for a heading with custom class\n",
    "def generate_heading(text, css_class=''):\n",
    "    return f\"<h1 class='{css_class}'>{text}</h1>\"\n",
    "\n",
    "heading_widget = widgets.HTML(value=generate_heading(\"Credit Helper\"))\n",
    "\n",
    "# Create widgets for each criteria\n",
    "person_age_widget = widgets.IntSlider(description=\"Person Age\")\n",
    "person_income_widget = widgets.FloatText(description=\"Person Income\")\n",
    "person_home_ownership_widget = widgets.Dropdown(options=['RENT', 'OWN', 'MORTGAGE', 'OTHER'], description=\"Home Ownership\")\n",
    "person_emp_length_widget = widgets.IntSlider(description=\"Employment Length (in years)\")\n",
    "loan_intent_widget = widgets.Dropdown(options=['EDUCATION', 'DEBTCONSOLIDATION', 'HOMEIMPROVEMENT', 'MEDICAL', 'PERSONAL', 'VENTURE'], description=\"Loan Intent\")\n",
    "loan_grade_widget = widgets.Dropdown(options=['A', 'B', 'C', 'D', 'E'], description=\"Loan Grade\")\n",
    "loan_amnt_widget = widgets.FloatText(description=\"Loan Amount\")\n",
    "loan_int_rate_widget = widgets.FloatText(description=\"Interest Rate\")\n",
    "loan_percent_income_widget = widgets.FloatText(description=\"Percent Income\")\n",
    "cb_person_default_on_file_widget = widgets.Dropdown(options={'Yes': 'Y', 'No': 'N'}, description=\"Historical Default\")\n",
    "cb_person_cred_hist_length_widget = widgets.IntSlider(description=\"Credit History Length\")\n",
    "\n",
    "\n",
    "# Create a button to invoke the function\n",
    "invoke_button = widgets.Button(description=\"Calculate\")\n",
    "\n",
    "def on_button_click(b):\n",
    "   result_output.clear_output()\n",
    "   with result_output:\n",
    "       result = f(person_age_widget.value, person_income_widget.value, person_home_ownership_widget.value,\n",
    "                  person_emp_length_widget.value, loan_intent_widget.value, loan_grade_widget.value,\n",
    "                  loan_amnt_widget.value, loan_int_rate_widget.value,\n",
    "                  loan_percent_income_widget.value, cb_person_default_on_file_widget.value,\n",
    "                  cb_person_cred_hist_length_widget.value)\n",
    "       print(result)\n",
    "# Display widgets and their descriptions\n",
    "display(heading_widget)   \n",
    "\n",
    "\n",
    "\n",
    "\n",
    "#display(widgets.Label(\"Enter Criteria:\"))\n",
    "display(widgets.Label(\"Age\"), person_age_widget)\n",
    "display(widgets.Label(\"Annual Income\"), person_income_widget)\n",
    "display(widgets.Label(\"Home Ownership\"), person_home_ownership_widget)\n",
    "display(widgets.Label(\"Employment Length (in years)\"), person_emp_length_widget)\n",
    "display(widgets.Label(\"Loan Intent\"), loan_intent_widget)\n",
    "display(widgets.Label(\"Loan Grade\"), loan_grade_widget)\n",
    "display(widgets.Label(\"Loan Amount\"), loan_amnt_widget)\n",
    "display(widgets.Label(\"Interest Rate\"), loan_int_rate_widget)\n",
    "display(widgets.Label(\"Percent Income\"), loan_percent_income_widget)\n",
    "display(widgets.Label(\"Historical Default\"), cb_person_default_on_file_widget)\n",
    "display(widgets.Label(\"Credit History Length\"), cb_person_cred_hist_length_widget)\n",
    "\n",
    "\n",
    "\n",
    "# Display the invoke button and result output\n",
    "invoke_button.on_click(on_button_click)\n",
    "display(invoke_button)\n",
    "result_output = widgets.Output()\n",
    "display(result_output)\n"
   ]
  }
 ],
 "metadata": {
  "kernelspec": {
   "display_name": "Python 3",
   "language": "python",
   "name": "python3"
  },
  "language_info": {
   "codemirror_mode": {
    "name": "ipython",
    "version": 3
   },
   "file_extension": ".py",
   "mimetype": "text/x-python",
   "name": "python",
   "nbconvert_exporter": "python",
   "pygments_lexer": "ipython3",
   "version": "3.10.0"
  }
 },
 "nbformat": 4,
 "nbformat_minor": 2
}
