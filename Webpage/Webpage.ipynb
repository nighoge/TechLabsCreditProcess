{
 "cells": [
  {
   "cell_type": "code",
   "execution_count": 104,
   "metadata": {},
   "outputs": [],
   "source": [
    "import pandas as pd\n",
    "import ipywidgets as widgets\n",
    "from IPython.display import display\n",
    "import joblib"
   ]
  },
  {
   "cell_type": "code",
   "execution_count": 105,
   "metadata": {},
   "outputs": [],
   "source": [
    "def one_hot_encode_variables(df, categories_dict):\n",
    "    for column, categories in categories_dict.items():\n",
    "        if column in df.columns:\n",
    "            for category in categories:\n",
    "                dummy_column = f\"{column}_{category}\"\n",
    "                df[dummy_column] = (df[column] == category).astype(int)\n",
    "            df.drop(column, axis=1, inplace=True)\n",
    "    return df\n",
    "\n",
    "def binary_encode(df, columns_to_encode):\n",
    "    mapping = {'Y': 1, 'N': 0}\n",
    "    df[columns_to_encode] = df[columns_to_encode].map(mapping)\n",
    "    return df\n",
    "\n",
    "def ordinal_encode(df, columns_to_encode, custom_order):\n",
    "    mapping = {val: idx for idx, val in enumerate(custom_order)}\n",
    "    df[columns_to_encode] = df[columns_to_encode].map(mapping)\n",
    "    return df\n",
    "\n",
    "def preprocess_data_single_entry(data_entry, categorical_dict, binary_col, ordinal_col, custom_order):\n",
    "    df = pd.DataFrame(data_entry)\n",
    "    df = one_hot_encode_variables(df, categorical_dict)\n",
    "    df = binary_encode(df, binary_col)\n",
    "    df = ordinal_encode(df, ordinal_col, custom_order)\n",
    "    df.fillna(df.median(), inplace=True)\n",
    "    return df\n"
   ]
  },
  {
   "cell_type": "code",
   "execution_count": 106,
   "metadata": {},
   "outputs": [
    {
     "data": {
      "application/vnd.jupyter.widget-view+json": {
       "model_id": "67a478e37e7748198101079f571ae330",
       "version_major": 2,
       "version_minor": 0
      },
      "text/plain": [
       "Label(value='Enter Criteria:')"
      ]
     },
     "metadata": {},
     "output_type": "display_data"
    },
    {
     "data": {
      "application/vnd.jupyter.widget-view+json": {
       "model_id": "54870f13e6fc4fd0978f1c50a9062e1e",
       "version_major": 2,
       "version_minor": 0
      },
      "text/plain": [
       "IntSlider(value=0, description='Person Age')"
      ]
     },
     "metadata": {},
     "output_type": "display_data"
    },
    {
     "data": {
      "application/vnd.jupyter.widget-view+json": {
       "model_id": "9c69c9d36f4b4ceeb7ff6d6fad0540f1",
       "version_major": 2,
       "version_minor": 0
      },
      "text/plain": [
       "Label(value='Age')"
      ]
     },
     "metadata": {},
     "output_type": "display_data"
    },
    {
     "data": {
      "application/vnd.jupyter.widget-view+json": {
       "model_id": "c36ea14841e342db8ca42ffa904ba5a0",
       "version_major": 2,
       "version_minor": 0
      },
      "text/plain": [
       "FloatText(value=0.0, description='Person Income')"
      ]
     },
     "metadata": {},
     "output_type": "display_data"
    },
    {
     "data": {
      "application/vnd.jupyter.widget-view+json": {
       "model_id": "3e05766252114e9d92c8924b03a4b1bf",
       "version_major": 2,
       "version_minor": 0
      },
      "text/plain": [
       "Label(value='Annual Income')"
      ]
     },
     "metadata": {},
     "output_type": "display_data"
    },
    {
     "data": {
      "application/vnd.jupyter.widget-view+json": {
       "model_id": "09a2e6584e3e4b0c9f1f89594fb272f9",
       "version_major": 2,
       "version_minor": 0
      },
      "text/plain": [
       "Dropdown(description='Home Ownership', options=('RENT', 'OWN', 'MORTGAGE', 'OTHER', 'OTHER'), value='RENT')"
      ]
     },
     "metadata": {},
     "output_type": "display_data"
    },
    {
     "data": {
      "application/vnd.jupyter.widget-view+json": {
       "model_id": "9d3c6d6561774f788d3810de7b103497",
       "version_major": 2,
       "version_minor": 0
      },
      "text/plain": [
       "Label(value='Home Ownership')"
      ]
     },
     "metadata": {},
     "output_type": "display_data"
    },
    {
     "data": {
      "application/vnd.jupyter.widget-view+json": {
       "model_id": "2ae3a72d0a7941fc82ed4d39562e9ff7",
       "version_major": 2,
       "version_minor": 0
      },
      "text/plain": [
       "IntSlider(value=0, description='Employment Length (in years)')"
      ]
     },
     "metadata": {},
     "output_type": "display_data"
    },
    {
     "data": {
      "application/vnd.jupyter.widget-view+json": {
       "model_id": "32457dc84e0044ea88c7ef418e7ff524",
       "version_major": 2,
       "version_minor": 0
      },
      "text/plain": [
       "Label(value='Employment Length (in years)')"
      ]
     },
     "metadata": {},
     "output_type": "display_data"
    },
    {
     "data": {
      "application/vnd.jupyter.widget-view+json": {
       "model_id": "d976cb15701b46e29531a7c1d4a9dc7d",
       "version_major": 2,
       "version_minor": 0
      },
      "text/plain": [
       "Dropdown(description='Loan Intent', options=('EDUCATION', 'DEBTCONSOLIDATION', 'HOMEIMPROVEMENT', 'MEDICAL', '…"
      ]
     },
     "metadata": {},
     "output_type": "display_data"
    },
    {
     "data": {
      "application/vnd.jupyter.widget-view+json": {
       "model_id": "335e1ff8f4544b5ab922642dba72592a",
       "version_major": 2,
       "version_minor": 0
      },
      "text/plain": [
       "Label(value='Loan Intent')"
      ]
     },
     "metadata": {},
     "output_type": "display_data"
    },
    {
     "data": {
      "application/vnd.jupyter.widget-view+json": {
       "model_id": "55f190159aba4043a97d2296df2666a6",
       "version_major": 2,
       "version_minor": 0
      },
      "text/plain": [
       "Dropdown(description='Loan Grade', options=('A', 'B', 'C', 'D', 'E'), value='A')"
      ]
     },
     "metadata": {},
     "output_type": "display_data"
    },
    {
     "data": {
      "application/vnd.jupyter.widget-view+json": {
       "model_id": "fd0011c967b44f84b0ec4398d8af00fa",
       "version_major": 2,
       "version_minor": 0
      },
      "text/plain": [
       "Label(value='Loan Grade')"
      ]
     },
     "metadata": {},
     "output_type": "display_data"
    },
    {
     "data": {
      "application/vnd.jupyter.widget-view+json": {
       "model_id": "bae4e53ed7b14210869009240ec214ed",
       "version_major": 2,
       "version_minor": 0
      },
      "text/plain": [
       "FloatText(value=0.0, description='Loan Amount')"
      ]
     },
     "metadata": {},
     "output_type": "display_data"
    },
    {
     "data": {
      "application/vnd.jupyter.widget-view+json": {
       "model_id": "cdfaa533f2794a9b934b59518b6ef723",
       "version_major": 2,
       "version_minor": 0
      },
      "text/plain": [
       "Label(value='Loan Amount')"
      ]
     },
     "metadata": {},
     "output_type": "display_data"
    },
    {
     "data": {
      "application/vnd.jupyter.widget-view+json": {
       "model_id": "78f677a57fa64244b6f6f0dce3cd4c53",
       "version_major": 2,
       "version_minor": 0
      },
      "text/plain": [
       "FloatText(value=0.0, description='Interest Rate')"
      ]
     },
     "metadata": {},
     "output_type": "display_data"
    },
    {
     "data": {
      "application/vnd.jupyter.widget-view+json": {
       "model_id": "91937774587649fdbc4e697fd65eb874",
       "version_major": 2,
       "version_minor": 0
      },
      "text/plain": [
       "Label(value='Interest Rate')"
      ]
     },
     "metadata": {},
     "output_type": "display_data"
    },
    {
     "data": {
      "application/vnd.jupyter.widget-view+json": {
       "model_id": "f439a912a75d456491fd336bb2d534f8",
       "version_major": 2,
       "version_minor": 0
      },
      "text/plain": [
       "FloatText(value=0.0, description='Percent Income')"
      ]
     },
     "metadata": {},
     "output_type": "display_data"
    },
    {
     "data": {
      "application/vnd.jupyter.widget-view+json": {
       "model_id": "f7db0c83e32946b5aa2a5aa8d2113ed8",
       "version_major": 2,
       "version_minor": 0
      },
      "text/plain": [
       "Label(value='Percent Income')"
      ]
     },
     "metadata": {},
     "output_type": "display_data"
    },
    {
     "data": {
      "application/vnd.jupyter.widget-view+json": {
       "model_id": "67149218ca5c421eb15e6fc2992a1486",
       "version_major": 2,
       "version_minor": 0
      },
      "text/plain": [
       "Dropdown(description='Historical Default', options={'Yes': 'Y', 'No': 'N'}, value='Y')"
      ]
     },
     "metadata": {},
     "output_type": "display_data"
    },
    {
     "data": {
      "application/vnd.jupyter.widget-view+json": {
       "model_id": "a94ccce82c8f44c787ec121145850440",
       "version_major": 2,
       "version_minor": 0
      },
      "text/plain": [
       "Label(value='Historical Default')"
      ]
     },
     "metadata": {},
     "output_type": "display_data"
    },
    {
     "data": {
      "application/vnd.jupyter.widget-view+json": {
       "model_id": "5501e17da003431195a3123820facbab",
       "version_major": 2,
       "version_minor": 0
      },
      "text/plain": [
       "IntSlider(value=0, description='Credit History Length')"
      ]
     },
     "metadata": {},
     "output_type": "display_data"
    },
    {
     "data": {
      "application/vnd.jupyter.widget-view+json": {
       "model_id": "363b7dae847e4b2dbeecf46addaf2688",
       "version_major": 2,
       "version_minor": 0
      },
      "text/plain": [
       "Label(value='Credit History Length')"
      ]
     },
     "metadata": {},
     "output_type": "display_data"
    },
    {
     "data": {
      "application/vnd.jupyter.widget-view+json": {
       "model_id": "367d593e4dde404ebb72b547ce48d603",
       "version_major": 2,
       "version_minor": 0
      },
      "text/plain": [
       "Button(description='Invoke Function', style=ButtonStyle())"
      ]
     },
     "metadata": {},
     "output_type": "display_data"
    },
    {
     "data": {
      "application/vnd.jupyter.widget-view+json": {
       "model_id": "bc400834452e4bdf97c8111274a77c30",
       "version_major": 2,
       "version_minor": 0
      },
      "text/plain": [
       "Output()"
      ]
     },
     "metadata": {},
     "output_type": "display_data"
    }
   ],
   "source": [
    "def f(person_age, person_income, person_home_ownership, person_emp_length, loan_intent, loan_grade,\n",
    "      loan_amnt, loan_int_rate, loan_percent_income, cb_person_default_on_file, cb_person_cred_hist_length):\n",
    "   \n",
    "   model = joblib.load('..\\my_random_forest.joblib')\n",
    "   data_entry = {\n",
    "        'person_age': [person_age],\n",
    "        'person_income': [person_income],\n",
    "        'person_home_ownership': [person_home_ownership],\n",
    "        'person_emp_length': [person_emp_length],\n",
    "        'loan_intent': [loan_intent],\n",
    "        'loan_grade': [loan_grade],\n",
    "        'loan_amnt': [loan_amnt],\n",
    "        'loan_int_rate': [loan_int_rate],\n",
    "        'loan_percent_income': [loan_percent_income],\n",
    "        'cb_person_default_on_file': [cb_person_default_on_file],\n",
    "        'cb_person_cred_hist_length': [cb_person_cred_hist_length]\n",
    "    }\n",
    "   \n",
    "   categorical_dict = {\n",
    "    'person_home_ownership': ['MORTGAGE',  'OTHER', 'OWN',  'RENT'],\n",
    "    'loan_intent': ['DEBTCONSOLIDATION', 'EDUCATION', 'HOMEIMPROVEMENT', 'MEDICAL', 'PERSONAL', 'VENTURE']\n",
    "   }\n",
    "\n",
    "   binary_col = 'cb_person_default_on_file'\n",
    "   ordinal_col = 'loan_grade'\n",
    "   custom_order = ['A', 'B', 'C', 'D', 'E']\n",
    "   customer_data_transformed = preprocess_data_single_entry(data_entry, categorical_dict, binary_col, ordinal_col, custom_order)\n",
    "   \n",
    "   prediction = model.predict(customer_data_transformed)\n",
    "   predicted_probability = model.predict_proba(customer_data_transformed)[:,1]\n",
    "\n",
    "   status = \"granted\" if prediction == 1 else \"denied\"\n",
    "   return f\"The credit has been {status} with probability {predicted_probability[0]}\"\n",
    "\n",
    "# Create widgets for each criteria\n",
    "person_age_widget = widgets.IntSlider(description=\"Person Age\")\n",
    "person_income_widget = widgets.FloatText(description=\"Person Income\")\n",
    "person_home_ownership_widget = widgets.Dropdown(options=['RENT', 'OWN', 'MORTGAGE', 'OTHER', 'OTHER'], description=\"Home Ownership\")\n",
    "person_emp_length_widget = widgets.IntSlider(description=\"Employment Length (in years)\")\n",
    "loan_intent_widget = widgets.Dropdown(options=['EDUCATION', 'DEBTCONSOLIDATION', 'HOMEIMPROVEMENT', 'MEDICAL', 'PERSONAL', 'VENTURE'], description=\"Loan Intent\")\n",
    "loan_grade_widget = widgets.Dropdown(options=['A', 'B', 'C', 'D', 'E'], description=\"Loan Grade\")\n",
    "loan_amnt_widget = widgets.FloatText(description=\"Loan Amount\")\n",
    "loan_int_rate_widget = widgets.FloatText(description=\"Interest Rate\")\n",
    "loan_percent_income_widget = widgets.FloatText(description=\"Percent Income\")\n",
    "cb_person_default_on_file_widget = widgets.Dropdown(options={'Yes': 'Y', 'No': 'N'}, description=\"Historical Default\")\n",
    "cb_person_cred_hist_length_widget = widgets.IntSlider(description=\"Credit History Length\")\n",
    "\n",
    "# Create a button to invoke the function\n",
    "invoke_button = widgets.Button(description=\"Invoke Function\")\n",
    "\n",
    "def on_button_click(b):\n",
    "   result_output.clear_output()\n",
    "   with result_output:\n",
    "       result = f(person_age_widget.value, person_income_widget.value, person_home_ownership_widget.value,\n",
    "                  person_emp_length_widget.value, loan_intent_widget.value, loan_grade_widget.value,\n",
    "                  loan_amnt_widget.value, loan_int_rate_widget.value,\n",
    "                  loan_percent_income_widget.value, cb_person_default_on_file_widget.value,\n",
    "                  cb_person_cred_hist_length_widget.value)\n",
    "       print(result)\n",
    "\n",
    "invoke_button.on_click(on_button_click)\n",
    "\n",
    "# Display widgets and their descriptions\n",
    "display(widgets.Label(\"Enter Criteria:\"))\n",
    "display(person_age_widget, widgets.Label(\"Age\"))\n",
    "display(person_income_widget, widgets.Label(\"Annual Income\"))\n",
    "display(person_home_ownership_widget, widgets.Label(\"Home Ownership\"))\n",
    "display(person_emp_length_widget, widgets.Label(\"Employment Length (in years)\"))\n",
    "display(loan_intent_widget, widgets.Label(\"Loan Intent\"))\n",
    "display(loan_grade_widget, widgets.Label(\"Loan Grade\"))\n",
    "display(loan_amnt_widget, widgets.Label(\"Loan Amount\"))\n",
    "display(loan_int_rate_widget, widgets.Label(\"Interest Rate\"))\n",
    "display(loan_percent_income_widget, widgets.Label(\"Percent Income\"))\n",
    "display(cb_person_default_on_file_widget, widgets.Label(\"Historical Default\"))\n",
    "display(cb_person_cred_hist_length_widget, widgets.Label(\"Credit History Length\"))\n",
    "\n",
    "# Display the invoke button and result output\n",
    "display(invoke_button)\n",
    "result_output = widgets.Output()\n",
    "display(result_output)\n"
   ]
  }
 ],
 "metadata": {
  "kernelspec": {
   "display_name": "Python 3",
   "language": "python",
   "name": "python3"
  },
  "language_info": {
   "codemirror_mode": {
    "name": "ipython",
    "version": 3
   },
   "file_extension": ".py",
   "mimetype": "text/x-python",
   "name": "python",
   "nbconvert_exporter": "python",
   "pygments_lexer": "ipython3",
   "version": "3.10.0"
  }
 },
 "nbformat": 4,
 "nbformat_minor": 2
}
