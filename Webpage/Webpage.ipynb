{
 "cells": [
  {
   "cell_type": "code",
   "execution_count": 116,
   "metadata": {},
   "outputs": [],
   "source": [
    "import pandas as pd\n",
    "import ipywidgets as widgets\n",
    "from IPython.display import display\n",
    "from IPython.display import HTML\n",
    "from ipywidgets import GridspecLayout\n",
    "from ipywidgets import Layout\n",
    "import joblib"
   ]
  },
  {
   "cell_type": "code",
   "execution_count": 117,
   "metadata": {},
   "outputs": [],
   "source": [
    "def one_hot_encode_variables(df, categories_dict):\n",
    "    for column, categories in categories_dict.items():\n",
    "        if column in df.columns:\n",
    "            for category in categories:\n",
    "                dummy_column = f\"{column}_{category}\"\n",
    "                df[dummy_column] = (df[column] == category).astype(int)\n",
    "            df.drop(column, axis=1, inplace=True)\n",
    "    return df\n",
    "\n",
    "def binary_encode(df, columns_to_encode):\n",
    "    mapping = {'Y': 1, 'N': 0}\n",
    "    df[columns_to_encode] = df[columns_to_encode].map(mapping)\n",
    "    return df\n",
    "\n",
    "def ordinal_encode(df, columns_to_encode, custom_order):\n",
    "    mapping = {val: idx for idx, val in enumerate(custom_order)}\n",
    "    df[columns_to_encode] = df[columns_to_encode].map(mapping)\n",
    "    return df\n",
    "\n",
    "def preprocess_data_single_entry(data_entry, categorical_dict, binary_col, ordinal_col, custom_order):\n",
    "    df = pd.DataFrame(data_entry)\n",
    "    df = one_hot_encode_variables(df, categorical_dict)\n",
    "    df = binary_encode(df, binary_col)\n",
    "    df = ordinal_encode(df, ordinal_col, custom_order)\n",
    "    df.fillna(df.median(), inplace=True)\n",
    "    return df\n"
   ]
  },
  {
   "cell_type": "code",
   "execution_count": 145,
   "metadata": {},
   "outputs": [
    {
     "data": {
      "application/vnd.jupyter.widget-view+json": {
       "model_id": "de7859b4487b45beb74498b165acd345",
       "version_major": 2,
       "version_minor": 0
      },
      "text/plain": [
       "HTML(value=\"<h1 class=''>Credit Helper</h1>\")"
      ]
     },
     "metadata": {},
     "output_type": "display_data"
    },
    {
     "data": {
      "application/vnd.jupyter.widget-view+json": {
       "model_id": "b1a39422684b40f3b91d1fd590878376",
       "version_major": 2,
       "version_minor": 0
      },
      "text/plain": [
       "Label(value='Age', style=LabelStyle(font_weight='bold'))"
      ]
     },
     "metadata": {},
     "output_type": "display_data"
    },
    {
     "data": {
      "application/vnd.jupyter.widget-view+json": {
       "model_id": "32dff9acad9145638aa2758ae78cc46e",
       "version_major": 2,
       "version_minor": 0
      },
      "text/plain": [
       "IntSlider(value=0)"
      ]
     },
     "metadata": {},
     "output_type": "display_data"
    },
    {
     "data": {
      "application/vnd.jupyter.widget-view+json": {
       "model_id": "e4f497c3b8e74c9e9a9cd05f33555677",
       "version_major": 2,
       "version_minor": 0
      },
      "text/plain": [
       "Label(value='Annual Income', style=LabelStyle(font_weight='bold'))"
      ]
     },
     "metadata": {},
     "output_type": "display_data"
    },
    {
     "data": {
      "application/vnd.jupyter.widget-view+json": {
       "model_id": "bfd7594a26634ed1b5aeaaaf696aaa89",
       "version_major": 2,
       "version_minor": 0
      },
      "text/plain": [
       "FloatText(value=0.0)"
      ]
     },
     "metadata": {},
     "output_type": "display_data"
    },
    {
     "data": {
      "application/vnd.jupyter.widget-view+json": {
       "model_id": "ea6e39863eb64a57965ea37f39cafddf",
       "version_major": 2,
       "version_minor": 0
      },
      "text/plain": [
       "Label(value='Home Ownership', style=LabelStyle(font_weight='bold'))"
      ]
     },
     "metadata": {},
     "output_type": "display_data"
    },
    {
     "data": {
      "application/vnd.jupyter.widget-view+json": {
       "model_id": "0895269c34754e37b7155ac70afd43dd",
       "version_major": 2,
       "version_minor": 0
      },
      "text/plain": [
       "Dropdown(options=('RENT', 'OWN', 'MORTGAGE', 'OTHER'), value='RENT')"
      ]
     },
     "metadata": {},
     "output_type": "display_data"
    },
    {
     "data": {
      "application/vnd.jupyter.widget-view+json": {
       "model_id": "9017c941fda04709aecc31c96cb95b60",
       "version_major": 2,
       "version_minor": 0
      },
      "text/plain": [
       "Label(value='Employment Length (in years)', style=LabelStyle(font_weight='bold'))"
      ]
     },
     "metadata": {},
     "output_type": "display_data"
    },
    {
     "data": {
      "application/vnd.jupyter.widget-view+json": {
       "model_id": "6735fd8a87ee4beda1284654287e85b2",
       "version_major": 2,
       "version_minor": 0
      },
      "text/plain": [
       "IntSlider(value=0)"
      ]
     },
     "metadata": {},
     "output_type": "display_data"
    },
    {
     "data": {
      "application/vnd.jupyter.widget-view+json": {
       "model_id": "612f85f968bd49dca3f39684eb2be600",
       "version_major": 2,
       "version_minor": 0
      },
      "text/plain": [
       "Label(value='Loan Intent', style=LabelStyle(font_weight='bold'))"
      ]
     },
     "metadata": {},
     "output_type": "display_data"
    },
    {
     "data": {
      "application/vnd.jupyter.widget-view+json": {
       "model_id": "a6a6688ca8294a8a832291631fc1560a",
       "version_major": 2,
       "version_minor": 0
      },
      "text/plain": [
       "Dropdown(options=('EDUCATION', 'DEBTCONSOLIDATION', 'HOMEIMPROVEMENT', 'MEDICAL', 'PERSONAL', 'VENTURE'), valu…"
      ]
     },
     "metadata": {},
     "output_type": "display_data"
    },
    {
     "data": {
      "application/vnd.jupyter.widget-view+json": {
       "model_id": "cf8a8cf1d7d5448f970c2728f59b6155",
       "version_major": 2,
       "version_minor": 0
      },
      "text/plain": [
       "Label(value='Loan Grade', style=LabelStyle(font_weight='bold'))"
      ]
     },
     "metadata": {},
     "output_type": "display_data"
    },
    {
     "data": {
      "application/vnd.jupyter.widget-view+json": {
       "model_id": "438f15a74d5344f1ae92ae6e54b9ef27",
       "version_major": 2,
       "version_minor": 0
      },
      "text/plain": [
       "Dropdown(options=('A', 'B', 'C', 'D', 'E'), value='A')"
      ]
     },
     "metadata": {},
     "output_type": "display_data"
    },
    {
     "data": {
      "application/vnd.jupyter.widget-view+json": {
       "model_id": "ad1e836557ee42829ef25b397b89a1b1",
       "version_major": 2,
       "version_minor": 0
      },
      "text/plain": [
       "Label(value='Loan Amount', style=LabelStyle(font_weight='bold'))"
      ]
     },
     "metadata": {},
     "output_type": "display_data"
    },
    {
     "data": {
      "application/vnd.jupyter.widget-view+json": {
       "model_id": "c4aabf1f13f24d4c88ac4068847565eb",
       "version_major": 2,
       "version_minor": 0
      },
      "text/plain": [
       "FloatText(value=0.0)"
      ]
     },
     "metadata": {},
     "output_type": "display_data"
    },
    {
     "data": {
      "application/vnd.jupyter.widget-view+json": {
       "model_id": "70aac2249a8a47b7bfc29c9b8e648654",
       "version_major": 2,
       "version_minor": 0
      },
      "text/plain": [
       "Label(value='Interest Rate', style=LabelStyle(font_weight='bold'))"
      ]
     },
     "metadata": {},
     "output_type": "display_data"
    },
    {
     "data": {
      "application/vnd.jupyter.widget-view+json": {
       "model_id": "67b355677126443db5e4399de367c32c",
       "version_major": 2,
       "version_minor": 0
      },
      "text/plain": [
       "FloatText(value=0.0)"
      ]
     },
     "metadata": {},
     "output_type": "display_data"
    },
    {
     "data": {
      "application/vnd.jupyter.widget-view+json": {
       "model_id": "fd3ec966c8f14e6a95400fc3515f541d",
       "version_major": 2,
       "version_minor": 0
      },
      "text/plain": [
       "Label(value='Percent of yearly income', style=LabelStyle(font_weight='bold'))"
      ]
     },
     "metadata": {},
     "output_type": "display_data"
    },
    {
     "data": {
      "application/vnd.jupyter.widget-view+json": {
       "model_id": "52a7b81b22824bf09fb26fbb01dd0ac6",
       "version_major": 2,
       "version_minor": 0
      },
      "text/plain": [
       "FloatText(value=0.0)"
      ]
     },
     "metadata": {},
     "output_type": "display_data"
    },
    {
     "data": {
      "application/vnd.jupyter.widget-view+json": {
       "model_id": "eeec0fe8755b453e800c7eaa88d5cbc6",
       "version_major": 2,
       "version_minor": 0
      },
      "text/plain": [
       "Label(value='Historical Default', style=LabelStyle(font_weight='bold'))"
      ]
     },
     "metadata": {},
     "output_type": "display_data"
    },
    {
     "data": {
      "application/vnd.jupyter.widget-view+json": {
       "model_id": "1c9c81f3fa9f43cf9e0a3985e9df9008",
       "version_major": 2,
       "version_minor": 0
      },
      "text/plain": [
       "Dropdown(options={'Yes': 'Y', 'No': 'N'}, value='Y')"
      ]
     },
     "metadata": {},
     "output_type": "display_data"
    },
    {
     "data": {
      "application/vnd.jupyter.widget-view+json": {
       "model_id": "0d2cb2951f0341f58a8c5194ea9e68d1",
       "version_major": 2,
       "version_minor": 0
      },
      "text/plain": [
       "Label(value='Credit History Length', style=LabelStyle(font_weight='bold'))"
      ]
     },
     "metadata": {},
     "output_type": "display_data"
    },
    {
     "data": {
      "application/vnd.jupyter.widget-view+json": {
       "model_id": "f3883d9292504bd69e0fca86da188245",
       "version_major": 2,
       "version_minor": 0
      },
      "text/plain": [
       "IntSlider(value=0)"
      ]
     },
     "metadata": {},
     "output_type": "display_data"
    },
    {
     "data": {
      "application/vnd.jupyter.widget-view+json": {
       "model_id": "82732cda48174bf0b20e9b2e0324781b",
       "version_major": 2,
       "version_minor": 0
      },
      "text/plain": [
       "Button(description='Calculate', style=ButtonStyle(button_color='lightblue', font_weight='bold'))"
      ]
     },
     "metadata": {},
     "output_type": "display_data"
    },
    {
     "data": {
      "application/vnd.jupyter.widget-view+json": {
       "model_id": "40bdbe18ada4465a917794a4863c6547",
       "version_major": 2,
       "version_minor": 0
      },
      "text/plain": [
       "Output()"
      ]
     },
     "metadata": {},
     "output_type": "display_data"
    }
   ],
   "source": [
    "def f(person_age, person_income, person_home_ownership, person_emp_length, loan_intent, loan_grade,\n",
    "      loan_amnt, loan_int_rate, loan_percent_income, cb_person_default_on_file, cb_person_cred_hist_length):\n",
    "   \n",
    "   model = joblib.load('my_random_forest.joblib')\n",
    "   data_entry = {\n",
    "        'person_age': [person_age],\n",
    "        'person_income': [person_income],\n",
    "        'person_home_ownership': [person_home_ownership],\n",
    "        'person_emp_length': [person_emp_length],\n",
    "        'loan_intent': [loan_intent],\n",
    "        'loan_grade': [loan_grade],\n",
    "        'loan_amnt': [loan_amnt],\n",
    "        'loan_int_rate': [loan_int_rate],\n",
    "        'loan_percent_income': [loan_percent_income],\n",
    "        'cb_person_default_on_file': [cb_person_default_on_file],\n",
    "        'cb_person_cred_hist_length': [cb_person_cred_hist_length]\n",
    "    }\n",
    "   \n",
    "   categorical_dict = {\n",
    "    'person_home_ownership': ['MORTGAGE',  'OTHER', 'OWN',  'RENT'],\n",
    "    'loan_intent': ['DEBTCONSOLIDATION', 'EDUCATION', 'HOMEIMPROVEMENT', 'MEDICAL', 'PERSONAL', 'VENTURE']\n",
    "   }\n",
    "\n",
    "   binary_col = 'cb_person_default_on_file'\n",
    "   ordinal_col = 'loan_grade'\n",
    "   custom_order = ['A', 'B', 'C', 'D', 'E']\n",
    "   customer_data_transformed = preprocess_data_single_entry(data_entry, categorical_dict, binary_col, ordinal_col, custom_order)\n",
    "   \n",
    "   prediction = model.predict(customer_data_transformed)\n",
    "   predicted_probability = model.predict_proba(customer_data_transformed)[:,1]\n",
    "\n",
    "   status = \"granted\" if prediction[0] == 0 else \"denied\"\n",
    "   color = \"red\" if prediction[0] == 1 and status == \"denied\" else \"green\"\n",
    "   return f\"The credit would be {status}! The risk that the loan is in default is: {predicted_probability[0]}\"\n",
    "\n",
    "\n",
    "\n",
    "# Create a function to generate HTML for a heading with custom class\n",
    "def generate_heading(text, css_class=''):\n",
    "    return f\"<h1 class='{css_class}'>{text}</h1>\"\n",
    "\n",
    "heading_widget = widgets.HTML(value=generate_heading(\"Credit Helper\"))\n",
    "\n",
    "# Create widgets for each criteria\n",
    "person_age_widget = widgets.IntSlider(description=\"\")\n",
    "person_income_widget = widgets.FloatText(description=\"\")\n",
    "person_home_ownership_widget = widgets.Dropdown(options=['RENT', 'OWN', 'MORTGAGE', 'OTHER'], description=\"\")\n",
    "person_emp_length_widget = widgets.IntSlider(description=\"\")\n",
    "loan_intent_widget = widgets.Dropdown(options=['EDUCATION', 'DEBTCONSOLIDATION', 'HOMEIMPROVEMENT', 'MEDICAL', 'PERSONAL', 'VENTURE'], description=\"\")\n",
    "loan_grade_widget = widgets.Dropdown(options=['A', 'B', 'C', 'D', 'E'], description=\"\")\n",
    "loan_amnt_widget = widgets.FloatText(description=\"\")\n",
    "loan_int_rate_widget = widgets.FloatText(description=\"\")\n",
    "loan_percent_income_widget = widgets.FloatText(description=\"\")\n",
    "cb_person_default_on_file_widget = widgets.Dropdown(options={'Yes': 'Y', 'No': 'N'}, description=\"\")\n",
    "cb_person_cred_hist_length_widget = widgets.IntSlider(description=\"\")\n",
    "\n",
    "\n",
    "# Create a button to invoke the function\n",
    "invoke_button = widgets.Button(description=\"Calculate\")\n",
    "invoke_button.style.button_color = 'lightblue'\n",
    "invoke_button.style.font_weight = 'bold'\n",
    "\n",
    "\n",
    "def on_button_click(b):\n",
    "   result_output.clear_output()\n",
    "   with result_output:\n",
    "       result = f(person_age_widget.value, person_income_widget.value, person_home_ownership_widget.value,\n",
    "                  person_emp_length_widget.value, loan_intent_widget.value, loan_grade_widget.value,\n",
    "                  loan_amnt_widget.value, loan_int_rate_widget.value,\n",
    "                  loan_percent_income_widget.value, cb_person_default_on_file_widget.value,\n",
    "                  cb_person_cred_hist_length_widget.value)\n",
    "       print(result)\n",
    "# Display widgets and their descriptions\n",
    "display(heading_widget)   \n",
    "\n",
    "label_style = {'font_weight': 'bold'}\n",
    "\n",
    "\n",
    "\n",
    "Label_age = widgets.Label(\"Age\")\n",
    "Label_age.style = label_style\n",
    "\n",
    "Label_Income = widgets.Label(\"Annual Income\")\n",
    "Label_Income.style = label_style\n",
    "\n",
    "Label_Ownership = widgets.Label(\"Home Ownership\")\n",
    "Label_Ownership.style = label_style\n",
    "\n",
    "Label_Length = widgets.Label(\"Employment Length (in years)\")\n",
    "Label_Length.style = label_style\n",
    "\n",
    "Label_Intent = widgets.Label(\"Loan Intent\")\n",
    "Label_Intent.style = label_style\n",
    "\n",
    "Label_Grade = widgets.Label(\"Loan Grade\")\n",
    "Label_Grade.style = label_style\n",
    "\n",
    "Label_Amount = widgets.Label(\"Loan Amount\")\n",
    "Label_Amount.style = label_style\n",
    "\n",
    "Label_Interest = widgets.Label(\"Interest Rate\")\n",
    "Label_Interest.style = label_style\n",
    "\n",
    "Label_Percent = widgets.Label(\"Percent of yearly income\")\n",
    "Label_Percent.style = label_style\n",
    "\n",
    "Label_Default = widgets.Label(\"Historical Default\")\n",
    "Label_Default.style = label_style\n",
    "\n",
    "Label_History = widgets.Label(\"Credit History Length\")\n",
    "Label_History.style = label_style\n",
    "\n",
    "\n",
    "#display(widgets.Label(\"Enter Criteria:\"))\n",
    "display(Label_age, person_age_widget)\n",
    "display(Label_Income, person_income_widget)\n",
    "display(Label_Ownership, person_home_ownership_widget)\n",
    "display(Label_Length, person_emp_length_widget)\n",
    "display(Label_Intent, loan_intent_widget)\n",
    "display(Label_Grade, loan_grade_widget)\n",
    "display(Label_Amount, loan_amnt_widget)\n",
    "display(Label_Interest, loan_int_rate_widget)\n",
    "display(Label_Percent, loan_percent_income_widget)\n",
    "display(Label_Default, cb_person_default_on_file_widget)\n",
    "display(Label_History, cb_person_cred_hist_length_widget)\n",
    "\n",
    "\n",
    "# Display the invoke button and result output\n",
    "invoke_button.on_click(on_button_click)\n",
    "display(invoke_button)\n",
    "result_output = widgets.Output()\n",
    "display(result_output)"
   ]
  }
 ],
 "metadata": {
  "kernelspec": {
   "display_name": "Python 3",
   "language": "python",
   "name": "python3"
  },
  "language_info": {
   "codemirror_mode": {
    "name": "ipython",
    "version": 3
   },
   "file_extension": ".py",
   "mimetype": "text/x-python",
   "name": "python",
   "nbconvert_exporter": "python",
   "pygments_lexer": "ipython3",
   "version": "3.11.6"
  }
 },
 "nbformat": 4,
 "nbformat_minor": 2
}
