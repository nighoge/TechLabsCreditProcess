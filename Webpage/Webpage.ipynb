{
 "cells": [
  {
   "cell_type": "code",
   "execution_count": 1,
   "metadata": {},
   "outputs": [
    {
     "data": {
      "application/vnd.jupyter.widget-view+json": {
       "model_id": "58c47049c3904ccfbcafe9fb34b4852f",
       "version_major": 2,
       "version_minor": 0
      },
      "text/plain": [
       "Label(value='Enter Criteria:')"
      ]
     },
     "metadata": {},
     "output_type": "display_data"
    },
    {
     "data": {
      "application/vnd.jupyter.widget-view+json": {
       "model_id": "cf479f456b984fbc8249c754131c1572",
       "version_major": 2,
       "version_minor": 0
      },
      "text/plain": [
       "IntSlider(value=0, description='Person Age')"
      ]
     },
     "metadata": {},
     "output_type": "display_data"
    },
    {
     "data": {
      "application/vnd.jupyter.widget-view+json": {
       "model_id": "2dbf92ceb4ac47239e03c4e78e18e9e9",
       "version_major": 2,
       "version_minor": 0
      },
      "text/plain": [
       "Label(value='Age')"
      ]
     },
     "metadata": {},
     "output_type": "display_data"
    },
    {
     "data": {
      "application/vnd.jupyter.widget-view+json": {
       "model_id": "2a719e77eb1e4658b2e0bcab3e770938",
       "version_major": 2,
       "version_minor": 0
      },
      "text/plain": [
       "FloatText(value=0.0, description='Person Income')"
      ]
     },
     "metadata": {},
     "output_type": "display_data"
    },
    {
     "data": {
      "application/vnd.jupyter.widget-view+json": {
       "model_id": "626bfec62a14424e84e7f158eaf73541",
       "version_major": 2,
       "version_minor": 0
      },
      "text/plain": [
       "Label(value='Annual Income')"
      ]
     },
     "metadata": {},
     "output_type": "display_data"
    },
    {
     "data": {
      "application/vnd.jupyter.widget-view+json": {
       "model_id": "9fe274bc949543e79ca6031aa1d7843d",
       "version_major": 2,
       "version_minor": 0
      },
      "text/plain": [
       "Dropdown(description='Home Ownership', options=('Rent', 'Own', 'Mortgage'), value='Rent')"
      ]
     },
     "metadata": {},
     "output_type": "display_data"
    },
    {
     "data": {
      "application/vnd.jupyter.widget-view+json": {
       "model_id": "17ecbea2479c4dc3ad01079902fdb95d",
       "version_major": 2,
       "version_minor": 0
      },
      "text/plain": [
       "Label(value='Home Ownership')"
      ]
     },
     "metadata": {},
     "output_type": "display_data"
    },
    {
     "data": {
      "application/vnd.jupyter.widget-view+json": {
       "model_id": "b44fb8bf2bf1448b9c32ac21f354df32",
       "version_major": 2,
       "version_minor": 0
      },
      "text/plain": [
       "IntSlider(value=0, description='Employment Length (in years)')"
      ]
     },
     "metadata": {},
     "output_type": "display_data"
    },
    {
     "data": {
      "application/vnd.jupyter.widget-view+json": {
       "model_id": "621e02e5655f41f0ada66e176f957ab7",
       "version_major": 2,
       "version_minor": 0
      },
      "text/plain": [
       "Label(value='Employment Length (in years)')"
      ]
     },
     "metadata": {},
     "output_type": "display_data"
    },
    {
     "data": {
      "application/vnd.jupyter.widget-view+json": {
       "model_id": "745a79aa82d44459895cc58267dcfbe1",
       "version_major": 2,
       "version_minor": 0
      },
      "text/plain": [
       "Dropdown(description='Loan Intent', options=('Personal', 'Home', 'Auto'), value='Personal')"
      ]
     },
     "metadata": {},
     "output_type": "display_data"
    },
    {
     "data": {
      "application/vnd.jupyter.widget-view+json": {
       "model_id": "9e2a03e65a8c4f5f8432977881520e9a",
       "version_major": 2,
       "version_minor": 0
      },
      "text/plain": [
       "Label(value='Loan Intent')"
      ]
     },
     "metadata": {},
     "output_type": "display_data"
    },
    {
     "data": {
      "application/vnd.jupyter.widget-view+json": {
       "model_id": "163fc0e79dd445cba33d535a43ab8015",
       "version_major": 2,
       "version_minor": 0
      },
      "text/plain": [
       "Dropdown(description='Loan Grade', options=('A', 'B', 'C', 'D', 'E'), value='A')"
      ]
     },
     "metadata": {},
     "output_type": "display_data"
    },
    {
     "data": {
      "application/vnd.jupyter.widget-view+json": {
       "model_id": "c79328df018846d68f3aecb7cdd05e10",
       "version_major": 2,
       "version_minor": 0
      },
      "text/plain": [
       "Label(value='Loan Grade')"
      ]
     },
     "metadata": {},
     "output_type": "display_data"
    },
    {
     "data": {
      "application/vnd.jupyter.widget-view+json": {
       "model_id": "078a1f45ee574b58bcc3c3b5bda75ea9",
       "version_major": 2,
       "version_minor": 0
      },
      "text/plain": [
       "FloatText(value=0.0, description='Loan Amount')"
      ]
     },
     "metadata": {},
     "output_type": "display_data"
    },
    {
     "data": {
      "application/vnd.jupyter.widget-view+json": {
       "model_id": "775331feb88b406786b937e8279da2fe",
       "version_major": 2,
       "version_minor": 0
      },
      "text/plain": [
       "Label(value='Loan Amount')"
      ]
     },
     "metadata": {},
     "output_type": "display_data"
    },
    {
     "data": {
      "application/vnd.jupyter.widget-view+json": {
       "model_id": "887cef591a2b40ac8b7d1791cc715d0e",
       "version_major": 2,
       "version_minor": 0
      },
      "text/plain": [
       "FloatText(value=0.0, description='Interest Rate')"
      ]
     },
     "metadata": {},
     "output_type": "display_data"
    },
    {
     "data": {
      "application/vnd.jupyter.widget-view+json": {
       "model_id": "87a9397353e74d6382c349c9188875a5",
       "version_major": 2,
       "version_minor": 0
      },
      "text/plain": [
       "Label(value='Interest Rate')"
      ]
     },
     "metadata": {},
     "output_type": "display_data"
    },
    {
     "data": {
      "application/vnd.jupyter.widget-view+json": {
       "model_id": "063c48259c4343f4aaef5d31eabea11f",
       "version_major": 2,
       "version_minor": 0
      },
      "text/plain": [
       "Dropdown(description='Loan Status', options={'Non-default': 0, 'Default': 1}, value=0)"
      ]
     },
     "metadata": {},
     "output_type": "display_data"
    },
    {
     "data": {
      "application/vnd.jupyter.widget-view+json": {
       "model_id": "f787c00e790f4632aba9df2b03da1f5c",
       "version_major": 2,
       "version_minor": 0
      },
      "text/plain": [
       "Label(value='Loan Status (0 is non-default, 1 is default)')"
      ]
     },
     "metadata": {},
     "output_type": "display_data"
    },
    {
     "data": {
      "application/vnd.jupyter.widget-view+json": {
       "model_id": "50def1c80051460fb3c4b83386492e5c",
       "version_major": 2,
       "version_minor": 0
      },
      "text/plain": [
       "FloatText(value=0.0, description='Percent Income')"
      ]
     },
     "metadata": {},
     "output_type": "display_data"
    },
    {
     "data": {
      "application/vnd.jupyter.widget-view+json": {
       "model_id": "c43b0129091e46f59fa0281d2859df06",
       "version_major": 2,
       "version_minor": 0
      },
      "text/plain": [
       "Label(value='Percent Income')"
      ]
     },
     "metadata": {},
     "output_type": "display_data"
    },
    {
     "data": {
      "application/vnd.jupyter.widget-view+json": {
       "model_id": "ce680e6063aa40448c3505f120195837",
       "version_major": 2,
       "version_minor": 0
      },
      "text/plain": [
       "Dropdown(description='Historical Default', options={'Y': 'Yes', 'N': 'No'}, value='Yes')"
      ]
     },
     "metadata": {},
     "output_type": "display_data"
    },
    {
     "data": {
      "application/vnd.jupyter.widget-view+json": {
       "model_id": "a53f0107318842a8abca60e6c2b4bb44",
       "version_major": 2,
       "version_minor": 0
      },
      "text/plain": [
       "Label(value='Historical Default')"
      ]
     },
     "metadata": {},
     "output_type": "display_data"
    },
    {
     "data": {
      "application/vnd.jupyter.widget-view+json": {
       "model_id": "87bfc871ce2c4b8c9ef8eb1e5b2da02e",
       "version_major": 2,
       "version_minor": 0
      },
      "text/plain": [
       "IntSlider(value=0, description='Credit History Length')"
      ]
     },
     "metadata": {},
     "output_type": "display_data"
    },
    {
     "data": {
      "application/vnd.jupyter.widget-view+json": {
       "model_id": "694d65b0bd304eeebc52967daab83b59",
       "version_major": 2,
       "version_minor": 0
      },
      "text/plain": [
       "Label(value='Credit History Length')"
      ]
     },
     "metadata": {},
     "output_type": "display_data"
    },
    {
     "data": {
      "application/vnd.jupyter.widget-view+json": {
       "model_id": "6156d6e5f3f6498f9a3cd03c70bcc05a",
       "version_major": 2,
       "version_minor": 0
      },
      "text/plain": [
       "Button(description='Invoke Function', style=ButtonStyle())"
      ]
     },
     "metadata": {},
     "output_type": "display_data"
    },
    {
     "data": {
      "application/vnd.jupyter.widget-view+json": {
       "model_id": "01b2f8cf5aad4a26847d1272a9083318",
       "version_major": 2,
       "version_minor": 0
      },
      "text/plain": [
       "Output()"
      ]
     },
     "metadata": {},
     "output_type": "display_data"
    }
   ],
   "source": [
    "import ipywidgets as widgets\n",
    "from IPython.display import display\n",
    "\n",
    "# Define your function f\n",
    "def f(person_age, person_income, person_home_ownership, person_emp_length, loan_intent, loan_grade,\n",
    "      loan_amnt, loan_int_rate, loan_status, loan_percent_income, cb_person_default_on_file, cb_person_cred_hist_length):\n",
    "   # Your function logic here\n",
    "   result = \"Function invoked with the following criteria:\\n\" + \\\n",
    "            f\"Person Age: {person_age}\\n\" + \\\n",
    "            f\"Person Income: {person_income}\\n\" + \\\n",
    "            f\"Home Ownership: {person_home_ownership}\\n\" + \\\n",
    "            f\"Employment Length: {person_emp_length}\\n\" + \\\n",
    "            f\"Loan Intent: {loan_intent}\\n\" + \\\n",
    "            f\"Loan Grade: {loan_grade}\\n\" + \\\n",
    "            f\"Loan Amount: {loan_amnt}\\n\" + \\\n",
    "            f\"Interest Rate: {loan_int_rate}\\n\" + \\\n",
    "            f\"Loan Status: {loan_status}\\n\" + \\\n",
    "            f\"Percent Income: {loan_percent_income}\\n\" + \\\n",
    "            f\"Historical Default: {cb_person_default_on_file}\\n\" + \\\n",
    "            f\"Credit History Length: {cb_person_cred_hist_length}\\n\"\n",
    "   return result\n",
    "\n",
    "# Create widgets for each criteria\n",
    "person_age_widget = widgets.IntSlider(description=\"Person Age\")\n",
    "person_income_widget = widgets.FloatText(description=\"Person Income\")\n",
    "person_home_ownership_widget = widgets.Dropdown(options=['Rent', 'Own', 'Mortgage'], description=\"Home Ownership\")\n",
    "person_emp_length_widget = widgets.IntSlider(description=\"Employment Length (in years)\")\n",
    "loan_intent_widget = widgets.Dropdown(options=['Personal', 'Home', 'Auto'], description=\"Loan Intent\")\n",
    "loan_grade_widget = widgets.Dropdown(options=['A', 'B', 'C', 'D', 'E'], description=\"Loan Grade\")\n",
    "loan_amnt_widget = widgets.FloatText(description=\"Loan Amount\")\n",
    "loan_int_rate_widget = widgets.FloatText(description=\"Interest Rate\")\n",
    "loan_status_widget = widgets.Dropdown(options={'Non-default': 0, 'Default': 1}, description=\"Loan Status\")\n",
    "loan_percent_income_widget = widgets.FloatText(description=\"Percent Income\")\n",
    "cb_person_default_on_file_widget = widgets.Dropdown(options={'Y': 'Yes', 'N': 'No'}, description=\"Historical Default\")\n",
    "cb_person_cred_hist_length_widget = widgets.IntSlider(description=\"Credit History Length\")\n",
    "\n",
    "# Create a button to invoke the function\n",
    "invoke_button = widgets.Button(description=\"Invoke Function\")\n",
    "\n",
    "def on_button_click(b):\n",
    "   result_output.clear_output()\n",
    "   with result_output:\n",
    "       result = f(person_age_widget.value, person_income_widget.value, person_home_ownership_widget.value,\n",
    "                  person_emp_length_widget.value, loan_intent_widget.value, loan_grade_widget.value,\n",
    "                  loan_amnt_widget.value, loan_int_rate_widget.value, loan_status_widget.value,\n",
    "                  loan_percent_income_widget.value, cb_person_default_on_file_widget.value,\n",
    "                  cb_person_cred_hist_length_widget.value)\n",
    "       print(result)\n",
    "\n",
    "invoke_button.on_click(on_button_click)\n",
    "\n",
    "# Display widgets and their descriptions\n",
    "display(widgets.Label(\"Enter Criteria:\"))\n",
    "display(person_age_widget, widgets.Label(\"Age\"))\n",
    "display(person_income_widget, widgets.Label(\"Annual Income\"))\n",
    "display(person_home_ownership_widget, widgets.Label(\"Home Ownership\"))\n",
    "display(person_emp_length_widget, widgets.Label(\"Employment Length (in years)\"))\n",
    "display(loan_intent_widget, widgets.Label(\"Loan Intent\"))\n",
    "display(loan_grade_widget, widgets.Label(\"Loan Grade\"))\n",
    "display(loan_amnt_widget, widgets.Label(\"Loan Amount\"))\n",
    "display(loan_int_rate_widget, widgets.Label(\"Interest Rate\"))\n",
    "display(loan_status_widget, widgets.Label(\"Loan Status (0 is non-default, 1 is default)\"))\n",
    "display(loan_percent_income_widget, widgets.Label(\"Percent Income\"))\n",
    "display(cb_person_default_on_file_widget, widgets.Label(\"Historical Default\"))\n",
    "display(cb_person_cred_hist_length_widget, widgets.Label(\"Credit History Length\"))\n",
    "\n",
    "# Display the invoke button and result output\n",
    "display(invoke_button)\n",
    "result_output = widgets.Output()\n",
    "display(result_output)\n"
   ]
  }
 ],
 "metadata": {
  "kernelspec": {
   "display_name": "Python 3",
   "language": "python",
   "name": "python3"
  },
  "language_info": {
   "codemirror_mode": {
    "name": "ipython",
    "version": 3
   },
   "file_extension": ".py",
   "mimetype": "text/x-python",
   "name": "python",
   "nbconvert_exporter": "python",
   "pygments_lexer": "ipython3",
   "version": "3.10.0"
  }
 },
 "nbformat": 4,
 "nbformat_minor": 2
}
